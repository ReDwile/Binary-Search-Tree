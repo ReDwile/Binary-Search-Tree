{
 "cells": [
  {
   "cell_type": "code",
   "execution_count": 1,
   "metadata": {},
   "outputs": [],
   "source": [
    "# Описание дерева\n",
    "class TreeNodes:\n",
    "    def __init__(self, value, left=None, right=None, parent=None):\n",
    "        self.value = value\n",
    "        self.left = left\n",
    "        self.right = right\n",
    "        self.parent = parent\n",
    "\n",
    "# Проверка на правильность введения данных (вершин)\n",
    "def check(x):\n",
    "    global n\n",
    "    if x.isdigit() and 0 < int(x) <= n:\n",
    "        return True\n",
    "    elif x != '' and x != '0':\n",
    "        print('ERROR')\n",
    "        print('Нет такой вершины')\n",
    "    return False\n",
    "\n",
    "# Создание дерева\n",
    "def start():\n",
    "    global n\n",
    "    nodes = [TreeNodes(i+1) for i in range(n)]\n",
    "    for i in range(n):\n",
    "        print(f'Для {i+1} вершины введите вершины левого и правого потомков (если нет параметра - введите или 0, или ничего)')\n",
    "        left = input('Вершина левого потомка')\n",
    "        if check(left):\n",
    "            nodes[i].left = nodes[int(left)-1]\n",
    "            nodes[int(left)-1].parent = nodes[i]\n",
    "        right = input('Вершина правого потомка')\n",
    "        if check(right):\n",
    "            nodes[i].right = nodes[int(right)-1]\n",
    "            nodes[int(right)-1].parent = nodes[i]\n",
    "    return nodes\n",
    "\n",
    "# Ввод изначальных точек\n",
    "def entry():\n",
    "    global Tree\n",
    "    while True:\n",
    "        print('Введите вершины')\n",
    "        try:\n",
    "            one = Tree[int(input('Первая вершина: '))-1]\n",
    "            two = Tree[int(input('Вторая вершина: '))-1]\n",
    "            return one, two\n",
    "        except:\n",
    "            print('ERROR')\n",
    "            print('Таких вершин нет')\n",
    "# Тестирование алгоритма\n",
    "\n",
    "def test():\n",
    "    # (дерево теста)\n",
    "    #            1\n",
    "    #        2      3\n",
    "    #      4      5   6\n",
    "    #           7    8 9\n",
    "    #                   10\n",
    "\n",
    "    nodes = [TreeNodes(i+1) for i in range(10)]\n",
    "    nodes[0].left, nodes[0].right = nodes[1], nodes[2]\n",
    "    nodes[1].left = nodes[3]\n",
    "    nodes[1].parent = nodes[0]\n",
    "    nodes[2].left, nodes[2].right = nodes[4], nodes[5]\n",
    "    nodes[2].parent = nodes[0]\n",
    "    nodes[3].parent = nodes[1]\n",
    "    nodes[4].left = nodes[6]\n",
    "    nodes[4].parent = nodes[2]\n",
    "    nodes[5].left, nodes[5].right = nodes[7], nodes[8]\n",
    "    nodes[5].parent = nodes[2]\n",
    "    nodes[6].parent = nodes[4]\n",
    "    nodes[7].parent = nodes[5]\n",
    "    nodes[8].right = nodes[9]\n",
    "    nodes[8].parent = nodes[5]\n",
    "    nodes[9].parent = nodes[8]\n",
    "    return nodes"
   ]
  },
  {
   "cell_type": "code",
   "execution_count": 2,
   "metadata": {},
   "outputs": [],
   "source": [
    "# Тестовая функция\n",
    "Tree = test()\n",
    "# (дерево теста)\n",
    "#            1\n",
    "#        2      3\n",
    "#      4      5   6\n",
    "#           7    8 9\n",
    "#                   10"
   ]
  },
  {
   "cell_type": "code",
   "execution_count": 3,
   "metadata": {},
   "outputs": [
    {
     "name": "stdin",
     "output_type": "stream",
     "text": [
      "Введите количество вершин:  1\n"
     ]
    },
    {
     "name": "stdout",
     "output_type": "stream",
     "text": [
      "Для 1 вершины введите вершины левого и правого потомков (если нет параметра - введите или 0, или ничего)\n"
     ]
    },
    {
     "name": "stdin",
     "output_type": "stream",
     "text": [
      "Вершина левого потомка \n",
      "Вершина правого потомка \n"
     ]
    }
   ],
   "source": [
    "# Стартовая функция\n",
    "n = int(input('Введите количество вершин: '))\n",
    "Tree = start()"
   ]
  },
  {
   "cell_type": "code",
   "execution_count": 4,
   "metadata": {},
   "outputs": [
    {
     "name": "stdout",
     "output_type": "stream",
     "text": [
      "Введите вершины\n"
     ]
    },
    {
     "name": "stdin",
     "output_type": "stream",
     "text": [
      "Первая вершина:  1\n",
      "Вторая вершина:  1\n"
     ]
    },
    {
     "name": "stdout",
     "output_type": "stream",
     "text": [
      "Общий предок - 1 вершина\n"
     ]
    }
   ],
   "source": [
    "# Вводимые пользователем вершины\n",
    "first, second = entry()\n",
    "\n",
    "# Определение глубины вершины\n",
    "def depth(node):\n",
    "    k = 0\n",
    "    while not node.parent is None:\n",
    "        k += 1\n",
    "        node = node.parent\n",
    "    return k\n",
    "\n",
    "depth_1 = depth(first)\n",
    "depth_2 = depth(second)\n",
    "\n",
    "# Спуск до одинакового уровня\n",
    "if depth_1 > depth_2:\n",
    "    for i in range(depth_1-depth_2):\n",
    "        first = first.parent\n",
    "else:\n",
    "    for i in range(depth_2-depth_1):\n",
    "        second = second.parent\n",
    "        \n",
    "while first != second:\n",
    "    first, second = first.parent, second.parent\n",
    "\n",
    "conclusion = first # предок задаваемых вершин\n",
    "print(f'Общий предок - {conclusion.value} вершина')\n"
   ]
  },
  {
   "cell_type": "code",
   "execution_count": null,
   "metadata": {},
   "outputs": [],
   "source": []
  }
 ],
 "metadata": {
  "kernelspec": {
   "display_name": "Python 3",
   "language": "python",
   "name": "python3"
  },
  "language_info": {
   "codemirror_mode": {
    "name": "ipython",
    "version": 3
   },
   "file_extension": ".py",
   "mimetype": "text/x-python",
   "name": "python",
   "nbconvert_exporter": "python",
   "pygments_lexer": "ipython3",
   "version": "3.7.1"
  }
 },
 "nbformat": 4,
 "nbformat_minor": 2
}
